{
 "cells": [
  {
   "cell_type": "code",
   "execution_count": 23,
   "metadata": {
    "collapsed": true
   },
   "outputs": [],
   "source": [
    "# %load Car.py\n",
    "class Car:\n",
    "\n",
    "    def __init__(self,driver, weight, max_speed, max_acceleration):\n",
    "        self.driver = driver\n",
    "        self.weight = weight\n",
    "        self.current_speed = 0\n",
    "        self.max_speed = max_speed\n",
    "        self.max_acceleration = max_acceleration\n",
    "        self.position = 0\n",
    "\n",
    "    def stopping_distance(self):\n",
    "        return 0.5 * self.current_speed*self.current_speed / self.max_acceleration;\n",
    "\n"
   ]
  },
  {
   "cell_type": "code",
   "execution_count": 24,
   "metadata": {
    "collapsed": true
   },
   "outputs": [],
   "source": [
    "# %load Environment.py\n",
    "class Environment:\n",
    "\n",
    "    def __init__(self):\n",
    "        self.cars = []\n",
    "\n",
    "    def add_car(self, car):\n",
    "        self.cars.append(car)"
   ]
  },
  {
   "cell_type": "code",
   "execution_count": 25,
   "metadata": {
    "collapsed": true
   },
   "outputs": [],
   "source": [
    "# %load Driver.py\n",
    "from abc import ABCMeta, abstractmethod\n",
    "\n",
    "\n",
    "class Driver:\n",
    "    __metaclass__ = ABCMeta\n",
    "\n",
    "    def __init__(self, name, weight):\n",
    "        self.name = name\n",
    "        self.weight = weight\n",
    "\n",
    "    @abstractmethod\n",
    "    def throttle_action( car,  env):\n",
    "        pass\n",
    "\n",
    "    @abstractmethod\n",
    "    def stop_for_refueling( car,  env):\n",
    "        pass\n",
    "\n",
    "\n",
    "class ChillDriver(Driver):\n",
    "\n",
    "    def throttle_action(self, car, env):\n",
    "        if car.current_speed < car.max_speed:\n",
    "            return 0.5 * car.max_acceleration\n",
    "        else:\n",
    "            return -0.5 * car.max_acceleration\n",
    "\n",
    "    def stop_for_refueling(car,  env):\n",
    "        next_station = env.get_next_station_following(car.position)\n",
    "        stop_at = car.position + car.stopping_distance()\n",
    "\n",
    "        if stop_at<next_station:\n",
    "            return True\n",
    "        else:\n",
    "            return False\n",
    "\n",
    "\n",
    "class AggressiveDriver(Driver):\n",
    "    def throttle_action(self, car, env):\n",
    "        if car.current_speed < car.max_speed:\n",
    "            return car.max_acceleration\n",
    "        else:\n",
    "            return -car.max_acceleration\n",
    "\n",
    "    def stop_for_refueling(car, env):\n",
    "        return False\n"
   ]
  },
  {
   "cell_type": "code",
   "execution_count": 26,
   "metadata": {},
   "outputs": [
    {
     "name": "stdout",
     "output_type": "stream",
     "text": [
      "Success!\n"
     ]
    }
   ],
   "source": [
    "# %load script.py\n",
    "from Environment import Environment\n",
    "from Driver import AggressiveDriver, ChillDriver\n",
    "from Car import Car\n",
    "\n",
    "\n",
    "car1 = Car(ChillDriver(\"Chris Dunlop\", 130), 800, 40, 5)\n",
    "car2 = Car(AggressiveDriver(\"Ann Merriweather\", 160), 400, 60, 7)\n",
    "\n",
    "env = Environment()\n",
    "env.add_car(car1)\n",
    "env.add_car(car2)\n",
    "\n",
    "print('Success!')\n",
    "\n"
   ]
  },
  {
   "cell_type": "code",
   "execution_count": null,
   "metadata": {
    "collapsed": true
   },
   "outputs": [],
   "source": []
  },
  {
   "cell_type": "code",
   "execution_count": null,
   "metadata": {
    "collapsed": true
   },
   "outputs": [],
   "source": []
  }
 ],
 "metadata": {
  "kernelspec": {
   "display_name": "Python 3",
   "language": "python",
   "name": "python3"
  },
  "language_info": {
   "codemirror_mode": {
    "name": "ipython",
    "version": 3
   },
   "file_extension": ".py",
   "mimetype": "text/x-python",
   "name": "python",
   "nbconvert_exporter": "python",
   "pygments_lexer": "ipython3",
   "version": "3.6.1"
  }
 },
 "nbformat": 4,
 "nbformat_minor": 2
}
